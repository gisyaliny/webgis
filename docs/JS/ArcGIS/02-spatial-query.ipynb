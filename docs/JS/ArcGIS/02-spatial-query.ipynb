{
 "cells": [
  {
   "cell_type": "markdown",
   "metadata": {},
   "source": [
    "# Working with Spatial Data with ArcGIS JS API\n",
    "\n",
    "In this section, we'll dive deeper into working with spatial data using the `ArcGIS JavaScript API`.\n",
    "\n",
    "We'll cover `spatial queries`, `filtering`, and understanding the `data structure` of web maps and feature layers on `ArcGIS Online`.\n"
   ]
  },
  {
   "cell_type": "markdown",
   "metadata": {},
   "source": [
    "## Example:Querying Features within a Distance\n",
    "\n",
    "- **Perform Spatial Query**: Use the `queryFeatures` method to perform a spatial query.\n"
   ]
  }
 ],
 "metadata": {
  "language_info": {
   "name": "python"
  }
 },
 "nbformat": 4,
 "nbformat_minor": 2
}
