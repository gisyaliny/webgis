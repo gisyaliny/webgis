{
 "cells": [
  {
   "cell_type": "markdown",
   "metadata": {},
   "source": [
    "# Introduction\n",
    "\n",
    "- [Cesium](https://cesium.com/)\n",
    "\n",
    "Cesium is an **open-source JavaScript library** for creating 3D globes and maps. It allows developers to build interactive web-based applications with high-performance rendering of geospatial data. Cesium is particularly renowned for its capability to visualize **large-scale**, **time-dynamic**, and **geographically**\n",
    "\n",
    "- It requires support of `WebGL`\n",
    "- Based on `Apache 2.0` license\n",
    "\n",
    "![](https://images.prismic.io/cesium/f9240055-e3a6-49f1-aef9-30e2ed4b0600_cesium-for-unreal-open1.png?auto=compress%2Cformat&fit=crop&ar=16%3A9&crop=faces%2Ccenter&w=675)\n"
   ]
  },
  {
   "cell_type": "markdown",
   "metadata": {},
   "source": [
    "## Support Data Format\n",
    "\n",
    "- `GeoJSON`: A lightweight format for encoding geospatial data using JSON (JavaScript Object Notation).\n",
    "\n",
    "- `KML (Keyhole Markup Language)`: An XML-based format for expressing geographic annotation and visualization within Internet-based maps and Earth browsers.\n",
    "\n",
    "- `CZML (Cesium Language)`: A JSON-based format specifically designed for Cesium, allowing developers to describe time-dynamic scenes in Cesium applications.\n",
    "\n",
    "- `3D Tiles`: A format for streaming massive heterogeneous 3D geospatial datasets, enabling efficient visualization of large-scale 3D content such as terrain, buildings, and point clouds.\n",
    "\n",
    "- `Tileset`: Cesium supports various tileset formats for efficiently rendering large-scale datasets, including formats like quantized-mesh, 3D Tiles, and terrain tiles.\n",
    "\n",
    "- `STL (Stereolithography)`: A file format native to the stereolithography `CAD` software used for creating 3D models, commonly used for representing 3D geometry in Cesium applications.\n",
    "\n",
    "- `COLLADA (COLLAborative Design Activity)`: A 3D model interchange format for exchanging digital assets between different graphics software applications, often used for importing 3D models into Cesium scenes.\n",
    "\n",
    "- `OBJ (Wavefront .obj file)`: A simple text-based format for representing 3D models, suitable for importing into Cesium applications for visualization.\n",
    "\n",
    "- `GML (Geography Markup Language)`: An `XML`-based encoding for the transport and storage of geographic information, supported in Cesium for interoperability with GIS systems.\n"
   ]
  },
  {
   "cell_type": "markdown",
   "metadata": {},
   "source": [
    "## Cesium in developing\n",
    "\n",
    "![](../assets/01.png)\n",
    "\n",
    "## Learning component for Cesium\n",
    "\n",
    "<div style=\"text-align: center;\">\n",
    "  <img src=\"../assets/02.png\" alt=\"Image\" style=\"width: 40%;\">\n",
    "</div>\n"
   ]
  },
  {
   "cell_type": "markdown",
   "metadata": {},
   "source": [
    "## Cesium Environment setting\n",
    "\n",
    "1. `Node.js and npm`: `Cesium` development requires `Node.js`, which includes `npm` (Node Package Manager), for managing dependencies and running scripts. You can download and install `Node.js` from [here](https://nodejs.org/en).\n",
    "   - Use `node --version` to check whether you install `Node.js` successfully\n",
    "2. Create a New Project\n",
    "\n",
    "   1. First, create a new directory for your Cesium project. You can do this using the command line:\n",
    "\n",
    "   ```\n",
    "   mkdir cesium-project\n",
    "   cd cesium-project\n",
    "   ```\n",
    "\n",
    "   2. Next, initialize a new npm project in the project directory:\n",
    "      `npm init -y`\n",
    "\n",
    "   This command creates a package.json file with default settings.\n",
    "\n",
    "   3. Install `Cesium` as a dependency using `npm`:\n",
    "      `npm install cesium`\n",
    "\n",
    "   This command installs the Cesium library and adds it as a dependency in your package.json file.\n"
   ]
  },
  {
   "cell_type": "code",
   "execution_count": 1,
   "metadata": {},
   "outputs": [
    {
     "name": "stdout",
     "output_type": "stream",
     "text": [
      "v14.17.6\n"
     ]
    }
   ],
   "source": [
    "!node --version"
   ]
  },
  {
   "cell_type": "code",
   "execution_count": 5,
   "metadata": {},
   "outputs": [
    {
     "name": "stdout",
     "output_type": "stream",
     "text": [
      "Wrote to e:\\2024\\github\\gis\\Cesium\\package.json:\n",
      "\n",
      "{\n",
      "  \"name\": \"Cesium\",\n",
      "  \"version\": \"1.0.0\",\n",
      "  \"description\": \"\",\n",
      "  \"main\": \"index.js\",\n",
      "  \"scripts\": {\n",
      "    \"test\": \"echo \\\"Error: no test specified\\\" && exit 1\"\n",
      "  },\n",
      "  \"keywords\": [],\n",
      "  \"author\": \"\",\n",
      "  \"license\": \"ISC\"\n",
      "}\n",
      "\n",
      "\n",
      "\n",
      "> protobufjs@7.2.6 postinstall e:\\2024\\github\\gis\\Cesium\\node_modules\\protobufjs\n",
      "> node scripts/postinstall\n",
      "\n",
      "+ cesium@1.116.0\n",
      "added 39 packages from 79 contributors and audited 39 packages in 3.968s\n",
      "found 0 vulnerabilities\n",
      "\n"
     ]
    },
    {
     "name": "stderr",
     "output_type": "stream",
     "text": [
      "npm notice created a lockfile as package-lock.json. You should commit this file.\n",
      "npm WARN notsup Unsupported engine for @zip.js/zip.js@2.7.41: wanted: {\"deno\":\">=1.0.0\",\"node\":\">=16.5.0\",\"bun\":\">=0.7.0\"} (current: {\"node\":\"14.17.6\",\"npm\":\"6.14.15\"})\n",
      "npm WARN notsup Not compatible with your version of node/npm: @zip.js/zip.js@2.7.41\n",
      "npm WARN Cesium@1.0.0 No description\n",
      "npm WARN Cesium@1.0.0 No repository field.\n",
      "\n"
     ]
    }
   ],
   "source": [
    "!mkdir cesium-project\n",
    "!cd cesium-project\n",
    "!npm init -y\n",
    "!npm install cesium"
   ]
  },
  {
   "cell_type": "markdown",
   "metadata": {},
   "source": [
    "3. Create an `HTML` file in your project directory.\n",
    "\n",
    "   - This file will serve as the entry point for your `Cesium` application:\n",
    "   - Open `index.html` in a editor and add the following content:\n",
    "\n",
    "   ```html\n",
    "   <!DOCTYPE html>\n",
    "   <html lang=\"en\">\n",
    "     <head>\n",
    "       <meta charset=\"UTF-8\" />\n",
    "       <meta name=\"viewport\" content=\"width=device-width, initial-scale=1.0\" />\n",
    "       <title>Cesium Example</title>\n",
    "       <style>\n",
    "         /* Add any custom styles here */\n",
    "         #cesiumContainer {\n",
    "           width: 100%;\n",
    "           height: 100%;\n",
    "         }\n",
    "         body,\n",
    "         html {\n",
    "           margin: 0;\n",
    "           padding: 0;\n",
    "           overflow: hidden;\n",
    "           height: 100%;\n",
    "         }\n",
    "       </style>\n",
    "     </head>\n",
    "     <body>\n",
    "       <div id=\"cesiumContainer\"></div>\n",
    "       <script src=\"./node_modules/cesium/Build/Cesium/Cesium.js\"></script>\n",
    "       <script>\n",
    "         // Your Cesium code goes here\n",
    "         var viewer = new Cesium.Viewer(\"cesiumContainer\");\n",
    "       </script>\n",
    "     </body>\n",
    "   </html>\n",
    "   ```\n",
    "\n",
    "   - This `HTML` file sets up a basic webpage with a container `div` for the `Cesium` viewer and includes the `Cesium` library via a `script` tag.\n"
   ]
  }
 ],
 "metadata": {
  "kernelspec": {
   "display_name": "mybase",
   "language": "python",
   "name": "python3"
  },
  "language_info": {
   "codemirror_mode": {
    "name": "ipython",
    "version": 3
   },
   "file_extension": ".py",
   "mimetype": "text/x-python",
   "name": "python",
   "nbconvert_exporter": "python",
   "pygments_lexer": "ipython3",
   "version": "3.11.4"
  }
 },
 "nbformat": 4,
 "nbformat_minor": 2
}
